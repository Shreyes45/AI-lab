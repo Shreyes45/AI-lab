{
  "nbformat": 4,
  "nbformat_minor": 0,
  "metadata": {
    "colab": {
      "provenance": [],
      "authorship_tag": "ABX9TyOjxZ95e6X7YafDjbAaFxGo",
      "include_colab_link": true
    },
    "kernelspec": {
      "name": "python3",
      "display_name": "Python 3"
    },
    "language_info": {
      "name": "python"
    }
  },
  "cells": [
    {
      "cell_type": "markdown",
      "metadata": {
        "id": "view-in-github",
        "colab_type": "text"
      },
      "source": [
        "<a href=\"https://colab.research.google.com/github/Shreyes45/AI-lab/blob/main/resolution-firstOrderLogic.ipynb\" target=\"_parent\"><img src=\"https://colab.research.google.com/assets/colab-badge.svg\" alt=\"Open In Colab\"/></a>"
      ]
    },
    {
      "cell_type": "code",
      "execution_count": 2,
      "metadata": {
        "colab": {
          "base_uri": "https://localhost:8080/"
        },
        "id": "ZSr7m20DOmh8",
        "outputId": "ab289f6f-07d9-4e09-e1f7-8a43339e99f1"
      },
      "outputs": [
        {
          "output_type": "stream",
          "name": "stdout",
          "text": [
            "Contradiction found ⇒ Proof successful \n"
          ]
        },
        {
          "output_type": "execute_result",
          "data": {
            "text/plain": [
              "True"
            ]
          },
          "metadata": {},
          "execution_count": 2
        }
      ],
      "source": [
        "from itertools import combinations\n",
        "\n",
        "def negate(literal):\n",
        "    if literal.startswith('~'):\n",
        "        return literal[1:]\n",
        "    else:\n",
        "        return '~' + literal\n",
        "\n",
        "def is_complementary(a, b):\n",
        "    return a == negate(b)\n",
        "\n",
        "def resolve(ci, cj):\n",
        "    for lit in ci:\n",
        "        for lit2 in cj:\n",
        "            if is_complementary(lit, lit2):\n",
        "                new_clause = list(set(ci + cj))\n",
        "                new_clause.remove(lit)\n",
        "                new_clause.remove(lit2)\n",
        "                return list(set(new_clause))\n",
        "    return None\n",
        "\n",
        "\n",
        "def resolution(clauses):\n",
        "    new = set()\n",
        "    while True:\n",
        "        pairs = list(combinations(clauses, 2))\n",
        "        for (ci, cj) in pairs:\n",
        "            resolvent = resolve(ci, cj)\n",
        "            if resolvent == []:\n",
        "                print(\"Contradiction found ⇒ Proof successful \")\n",
        "                return True\n",
        "            if resolvent is not None:\n",
        "                new.add(tuple(sorted(resolvent)))\n",
        "        if new.issubset(set(map(tuple, clauses))):\n",
        "            print(\"No new clauses ⇒ Proof failed \")\n",
        "            return False\n",
        "        for c in new:\n",
        "            if list(c) not in clauses:\n",
        "                clauses.append(list(c))\n",
        "\n",
        "clauses = [\n",
        "    ['~Food(x)', 'Likes(John,x)'],\n",
        "    ['Food(Apple)'],\n",
        "    ['Food(Vegetable)'],\n",
        "    ['~Eats(x,y)', 'Killed(x)', 'Food(y)'],\n",
        "    ['Eats(Anil,Peanut)'],\n",
        "    ['Alive(Anil)'],\n",
        "    ['~Eats(Anil,x)', 'Eats(Harry,x)'],\n",
        "    ['~Alive(x)', '~Killed(x)'],\n",
        "    ['Killed(x)', 'Alive(x)'],\n",
        "    ['~Likes(John,Peanut)']\n",
        "]\n",
        "\n",
        "resolution(clauses)\n"
      ]
    }
  ]
}