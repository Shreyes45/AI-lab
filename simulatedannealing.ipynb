{
  "nbformat": 4,
  "nbformat_minor": 0,
  "metadata": {
    "colab": {
      "provenance": [],
      "authorship_tag": "ABX9TyMl2n6vV49nskHlprnfuC+s",
      "include_colab_link": true
    },
    "kernelspec": {
      "name": "python3",
      "display_name": "Python 3"
    },
    "language_info": {
      "name": "python"
    }
  },
  "cells": [
    {
      "cell_type": "markdown",
      "metadata": {
        "id": "view-in-github",
        "colab_type": "text"
      },
      "source": [
        "<a href=\"https://colab.research.google.com/github/Shreyes45/AI-lab/blob/main/simulatedannealing.ipynb\" target=\"_parent\"><img src=\"https://colab.research.google.com/assets/colab-badge.svg\" alt=\"Open In Colab\"/></a>"
      ]
    },
    {
      "cell_type": "code",
      "execution_count": 2,
      "metadata": {
        "colab": {
          "base_uri": "https://localhost:8080/"
        },
        "id": "GpqA-_0D63a1",
        "outputId": "b6e9cd84-2767-4179-b674-cb655744076b"
      },
      "outputs": [
        {
          "output_type": "stream",
          "name": "stdout",
          "text": [
            "Best Position Found: [3, 3, 7, 2, 4, 6, 0, 5]\n",
            "Number of Queens that are not attacking each other: 27\n"
          ]
        }
      ],
      "source": [
        "import random\n",
        "import math\n",
        "\n",
        "def calculate_heuristic(state, N):\n",
        "    \"\"\"Calculate the number of non-attacking queens.\"\"\"\n",
        "    conflicts = 0\n",
        "    for i in range(N):\n",
        "        for j in range(i + 1, N):\n",
        "\n",
        "            if state[i] == state[j] or \\\n",
        "               state[i] - i == state[j] - j or \\\n",
        "               state[i] + i == state[j] + j:\n",
        "                conflicts += 1\n",
        "\n",
        "    return (N * (N - 1)) // 2 - conflicts\n",
        "\n",
        "def generate_neighbor(state, N):\n",
        "    \"\"\"Generate a neighbor by randomly moving a queen.\"\"\"\n",
        "    neighbor = state[:]\n",
        "    row = random.randint(0, N - 1)\n",
        "    col = random.randint(0, N - 1)\n",
        "    while col == state[row]:\n",
        "        col = random.randint(0, N - 1)\n",
        "    neighbor[row] = col\n",
        "    return neighbor\n",
        "\n",
        "def simulated_annealing(initial_state, initial_temp, cooling_rate, iterations, N):\n",
        "    \"\"\"Simulated annealing to find a good solution for N-Queens problem.\"\"\"\n",
        "    current_state = initial_state\n",
        "    current_temp = initial_temp\n",
        "    best_state = current_state\n",
        "    best_score = calculate_heuristic(current_state, N)\n",
        "\n",
        "    for i in range(iterations):\n",
        "        neighbor = generate_neighbor(current_state, N)\n",
        "        current_score = calculate_heuristic(current_state, N)\n",
        "        neighbor_score = calculate_heuristic(neighbor, N)\n",
        "\n",
        "\n",
        "        if neighbor_score > best_score:\n",
        "            best_state = neighbor\n",
        "            best_score = neighbor_score\n",
        "\n",
        "\n",
        "        if neighbor_score > current_score or random.random() < math.exp((current_score - neighbor_score) / current_temp):\n",
        "            current_state = neighbor\n",
        "\n",
        "\n",
        "        current_temp *= cooling_rate\n",
        "\n",
        "    return best_state, best_score\n",
        "\n",
        "N = 8\n",
        "initial_state = [random.randint(0, N - 1) for _ in range(N)]\n",
        "initial_temp = 1000\n",
        "cooling_rate = 0.99\n",
        "iterations = 1000\n",
        "\n",
        "best_state, best_score = simulated_annealing(initial_state, initial_temp, cooling_rate, iterations, N)\n",
        "\n",
        "print(\"Best Position Found:\", best_state)\n",
        "print(\"Number of Queens that are not attacking each other:\", best_score)\n"
      ]
    }
  ]
}