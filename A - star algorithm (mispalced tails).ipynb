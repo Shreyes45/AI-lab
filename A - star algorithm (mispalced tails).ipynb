{
  "nbformat": 4,
  "nbformat_minor": 0,
  "metadata": {
    "colab": {
      "provenance": [],
      "authorship_tag": "ABX9TyOzk2s04eP0yDrC3JGd+UWO",
      "include_colab_link": true
    },
    "kernelspec": {
      "name": "python3",
      "display_name": "Python 3"
    },
    "language_info": {
      "name": "python"
    }
  },
  "cells": [
    {
      "cell_type": "markdown",
      "metadata": {
        "id": "view-in-github",
        "colab_type": "text"
      },
      "source": [
        "<a href=\"https://colab.research.google.com/github/Shreyes45/AI-lab/blob/main/A%20-%20star%20algorithm%20(mispalced%20tails).ipynb\" target=\"_parent\"><img src=\"https://colab.research.google.com/assets/colab-badge.svg\" alt=\"Open In Colab\"/></a>"
      ]
    },
    {
      "cell_type": "code",
      "execution_count": 1,
      "metadata": {
        "colab": {
          "base_uri": "https://localhost:8080/"
        },
        "id": "dBwaxlJftiUR",
        "outputId": "91a4ba61-3868-4c43-f51f-2f96a8c708c2"
      },
      "outputs": [
        {
          "output_type": "stream",
          "name": "stdout",
          "text": [
            "Solution found in 5 moves:\n",
            "2 8 3\n",
            "1 6 4\n",
            "7   5\n",
            "\n",
            "2 8 3\n",
            "1   4\n",
            "7 6 5\n",
            "\n",
            "2   3\n",
            "1 8 4\n",
            "7 6 5\n",
            "\n",
            "  2 3\n",
            "1 8 4\n",
            "7 6 5\n",
            "\n",
            "1 2 3\n",
            "  8 4\n",
            "7 6 5\n",
            "\n",
            "1 2 3\n",
            "8   4\n",
            "7 6 5\n",
            "\n"
          ]
        }
      ],
      "source": [
        "from heapq import heappush, heappop\n",
        "\n",
        "goal_state = ((1, 2, 3),\n",
        "              (8, 0, 4),\n",
        "              (7, 6, 5))\n",
        "\n",
        "moves = [(-1, 0), (1, 0), (0, -1), (0, 1)]\n",
        "\n",
        "\n",
        "def misplaced_tiles(state):\n",
        "    count = 0\n",
        "    for i in range(3):\n",
        "        for j in range(3):\n",
        "            if state[i][j] != 0 and state[i][j] != goal_state[i][j]:\n",
        "                count += 1\n",
        "    return count\n",
        "\n",
        "\n",
        "def get_blank_pos(state):\n",
        "    for i in range(3):\n",
        "        for j in range(3):\n",
        "            if state[i][j] == 0:\n",
        "                return i, j\n",
        "\n",
        "\n",
        "def swap_tiles(state, pos1, pos2):\n",
        "    state_list = [list(row) for row in state]\n",
        "    x1, y1 = pos1\n",
        "    x2, y2 = pos2\n",
        "    state_list[x1][y1], state_list[x2][y2] = state_list[x2][y2], state_list[x1][y1]\n",
        "    return tuple(tuple(row) for row in state_list)\n",
        "\n",
        "\n",
        "def get_neighbors(state):\n",
        "    neighbors = []\n",
        "    x, y = get_blank_pos(state)\n",
        "    for dx, dy in moves:\n",
        "        nx, ny = x + dx, y + dy\n",
        "        if 0 <= nx < 3 and 0 <= ny < 3:\n",
        "            new_state = swap_tiles(state, (x, y), (nx, ny))\n",
        "            neighbors.append(new_state)\n",
        "    return neighbors\n",
        "\n",
        "\n",
        "def a_star(start_state):\n",
        "    open_set = []\n",
        "    heappush(open_set, (misplaced_tiles(start_state), 0, start_state, []))\n",
        "    visited = set()\n",
        "\n",
        "    while open_set:\n",
        "        f, g, current_state, path = heappop(open_set)\n",
        "\n",
        "        if current_state == goal_state:\n",
        "            return path + [current_state]\n",
        "\n",
        "        if current_state in visited:\n",
        "            continue\n",
        "\n",
        "        visited.add(current_state)\n",
        "\n",
        "        for neighbor in get_neighbors(current_state):\n",
        "            if neighbor not in visited:\n",
        "                new_g = g + 1\n",
        "                new_f = new_g + misplaced_tiles(neighbor)\n",
        "                heappush(open_set, (new_f, new_g, neighbor, path + [current_state]))\n",
        "\n",
        "    return None\n",
        "\n",
        "\n",
        "def print_state(state):\n",
        "    for row in state:\n",
        "        print(' '.join(str(x) if x != 0 else ' ' for x in row))\n",
        "    print()\n",
        "\n",
        "\n",
        "if __name__ == \"__main__\":\n",
        "    start = ((2, 8, 3),\n",
        "             (1, 6, 4),\n",
        "             (7, 0, 5))\n",
        "\n",
        "    solution_path = a_star(start)\n",
        "\n",
        "    if solution_path:\n",
        "        print(f\"Solution found in {len(solution_path) - 1} moves:\")\n",
        "        for step in solution_path:\n",
        "            print_state(step)\n",
        "    else:\n",
        "        print(\"No solution found.\")\n"
      ]
    }
  ]
}