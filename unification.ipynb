{
  "nbformat": 4,
  "nbformat_minor": 0,
  "metadata": {
    "colab": {
      "provenance": [],
      "authorship_tag": "ABX9TyMLiSs8F8lIYAnOtdiGm6op",
      "include_colab_link": true
    },
    "kernelspec": {
      "name": "python3",
      "display_name": "Python 3"
    },
    "language_info": {
      "name": "python"
    }
  },
  "cells": [
    {
      "cell_type": "markdown",
      "metadata": {
        "id": "view-in-github",
        "colab_type": "text"
      },
      "source": [
        "<a href=\"https://colab.research.google.com/github/Shreyes45/AI-lab/blob/main/unification.ipynb\" target=\"_parent\"><img src=\"https://colab.research.google.com/assets/colab-badge.svg\" alt=\"Open In Colab\"/></a>"
      ]
    },
    {
      "cell_type": "code",
      "execution_count": 1,
      "metadata": {
        "colab": {
          "base_uri": "https://localhost:8080/"
        },
        "id": "ggCO-n-JLeOS",
        "outputId": "73866778-a471-421d-a7af-41eebc5b55ea"
      },
      "outputs": [
        {
          "output_type": "stream",
          "name": "stdout",
          "text": [
            "Most General Unifier (MGU): {'Z': 'b', 'X': ('f', ['Y']), 'Y': ('g', ['Z'])}\n"
          ]
        }
      ],
      "source": [
        "def unify(x, y, subs=None):\n",
        "    if subs is None:\n",
        "        subs = {}\n",
        "\n",
        "    if isinstance(x, str) and x in subs:\n",
        "        return unify(subs[x], y, subs)\n",
        "    if isinstance(y, str) and y in subs:\n",
        "        return unify(x, subs[y], subs)\n",
        "\n",
        "    if x == y:\n",
        "        return subs\n",
        "    if isinstance(x, str) and x.isupper():\n",
        "        subs[x] = y\n",
        "        return subs\n",
        "\n",
        "    if isinstance(y, str) and y.isupper():\n",
        "        subs[y] = x\n",
        "        return subs\n",
        "\n",
        "    if isinstance(x, tuple) and isinstance(y, tuple):\n",
        "        if x[0] != y[0] or len(x[1]) != len(y[1]):\n",
        "            return None\n",
        "        for a, b in zip(x[1], y[1]):\n",
        "            subs = unify(a, b, subs)\n",
        "            if subs is None:\n",
        "                return None\n",
        "        return subs\n",
        "\n",
        "\n",
        "    return None\n",
        "\n",
        "\n",
        "expr1 = ('p', ['b', 'X', ('f', [('g', ['Z'])])])\n",
        "expr2 = ('p', ['Z', ('f', ['Y']), ('f', ['Y'])])\n",
        "\n",
        "mgu = unify(expr1, expr2)\n",
        "print(\"Most General Unifier (MGU):\", mgu)\n"
      ]
    }
  ]
}