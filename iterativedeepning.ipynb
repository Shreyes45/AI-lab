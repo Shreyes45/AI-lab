{
  "nbformat": 4,
  "nbformat_minor": 0,
  "metadata": {
    "colab": {
      "provenance": [],
      "authorship_tag": "ABX9TyP9hcMt4crhGo1AYg1wyJb1",
      "include_colab_link": true
    },
    "kernelspec": {
      "name": "python3",
      "display_name": "Python 3"
    },
    "language_info": {
      "name": "python"
    }
  },
  "cells": [
    {
      "cell_type": "markdown",
      "metadata": {
        "id": "view-in-github",
        "colab_type": "text"
      },
      "source": [
        "<a href=\"https://colab.research.google.com/github/Shreyes45/AI-lab/blob/main/iterativedeepning.ipynb\" target=\"_parent\"><img src=\"https://colab.research.google.com/assets/colab-badge.svg\" alt=\"Open In Colab\"/></a>"
      ]
    },
    {
      "cell_type": "code",
      "execution_count": 4,
      "metadata": {
        "colab": {
          "base_uri": "https://localhost:8080/"
        },
        "id": "X4R78K2y4UJo",
        "outputId": "54824cf3-36a9-440f-dd46-6cae55329cbd"
      },
      "outputs": [
        {
          "output_type": "stream",
          "name": "stdout",
          "text": [
            "shreyas ts 1BM23CS322\n",
            "[[1, 2, 3], [4, 5, 6], [7, 8, 0]]\n"
          ]
        }
      ],
      "source": [
        "print(\"shreyas ts 1BM23CS322\")\n",
        "\n",
        "def goal_state_reached(state, goal_state):\n",
        "    return state == goal_state\n",
        "\n",
        "def find_empty(state):\n",
        "    for i in range(3):\n",
        "        for j in range(3):\n",
        "            if state[i][j] == 0:\n",
        "                return (i, j)\n",
        "\n",
        "def get_neighbors(state):\n",
        "    neighbors = []\n",
        "    x, y = find_empty(state)\n",
        "    directions = [(-1, 0), (1, 0), (0, -1), (0, 1)]\n",
        "    for dx, dy in directions:\n",
        "        nx, ny = x + dx, y + dy\n",
        "        if 0 <= nx < 3 and 0 <= ny < 3:\n",
        "            new_state = [row[:] for row in state]\n",
        "            new_state[x][y], new_state[nx][ny] = new_state[nx][ny], new_state[x][y]\n",
        "            neighbors.append(new_state)\n",
        "    return neighbors\n",
        "\n",
        "def depth_limited_dfs(state, goal_state, depth):\n",
        "    if depth == 0:\n",
        "        return [state] if goal_state_reached(state, goal_state) else None\n",
        "    elif depth > 0:\n",
        "        for neighbor in get_neighbors(state):\n",
        "            path = depth_limited_dfs(neighbor, goal_state, depth - 1)\n",
        "            if path:\n",
        "                return [state] + path\n",
        "    return None\n",
        "\n",
        "def iterative_deepening_dfs(start_state, goal_state):\n",
        "    depth = 0\n",
        "    while True:\n",
        "        path = depth_limited_dfs(start_state, goal_state, depth)\n",
        "        if path:\n",
        "            return path\n",
        "        depth += 1\n",
        "\n",
        "start_state = [[1, 2, 3],\n",
        "               [4, 5, 6],\n",
        "               [7, 8, 0]]\n",
        "\n",
        "goal_state = [[1, 2, 3],\n",
        "              [4, 5, 6],\n",
        "              [7, 8, 0]]\n",
        "\n",
        "solution = iterative_deepening_dfs(start_state, goal_state)\n",
        "for step in solution:\n",
        "    print(step)"
      ]
    }
  ]
}