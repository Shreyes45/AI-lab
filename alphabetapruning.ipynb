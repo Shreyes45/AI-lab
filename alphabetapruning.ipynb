{
  "nbformat": 4,
  "nbformat_minor": 0,
  "metadata": {
    "colab": {
      "provenance": [],
      "authorship_tag": "ABX9TyPwrLABVbX7jS0Ox7SNnE3V",
      "include_colab_link": true
    },
    "kernelspec": {
      "name": "python3",
      "display_name": "Python 3"
    },
    "language_info": {
      "name": "python"
    }
  },
  "cells": [
    {
      "cell_type": "markdown",
      "metadata": {
        "id": "view-in-github",
        "colab_type": "text"
      },
      "source": [
        "<a href=\"https://colab.research.google.com/github/Shreyes45/AI-lab/blob/main/alphabetapruning.ipynb\" target=\"_parent\"><img src=\"https://colab.research.google.com/assets/colab-badge.svg\" alt=\"Open In Colab\"/></a>"
      ]
    },
    {
      "cell_type": "code",
      "execution_count": 1,
      "metadata": {
        "colab": {
          "base_uri": "https://localhost:8080/"
        },
        "id": "EK1Rw7EfYQNK",
        "outputId": "60745808-631c-4de2-da67-014b57ae83e7"
      },
      "outputs": [
        {
          "output_type": "stream",
          "name": "stdout",
          "text": [
            "Leaf Nodes: [10, 9, 14, 18, 5, 4, 50, 3]\n",
            "MAX node (α=-inf, β=inf)\n",
            "   MIN node (α=-inf, β=inf)\n",
            "      MAX node (α=-inf, β=inf)\n",
            "         Leaf node[0] = 10\n",
            "         MAX updating α=10\n",
            "         Leaf node[1] = 9\n",
            "         MAX updating α=10\n",
            "      MIN updating β=10\n",
            "      MAX node (α=-inf, β=10)\n",
            "         Leaf node[2] = 14\n",
            "         MAX updating α=14\n",
            "         β cut-off (β=10, α=14) \n",
            "      MIN updating β=10\n",
            "   MAX updating α=10\n",
            "   MIN node (α=10, β=inf)\n",
            "      MAX node (α=10, β=inf)\n",
            "         Leaf node[4] = 5\n",
            "         MAX updating α=10\n",
            "         Leaf node[5] = 4\n",
            "         MAX updating α=10\n",
            "      MIN updating β=5\n",
            "      α cut-off (β=5, α=10) \n",
            "   MAX updating α=10\n",
            "\n",
            "Optimal value: 10\n"
          ]
        }
      ],
      "source": [
        "import math\n",
        "\n",
        "def alpha_beta(depth, node_index, is_maximizing, values, alpha, beta, max_depth):\n",
        "    indent = \"   \" * depth\n",
        "    if depth == max_depth:\n",
        "        print(f\"{indent}Leaf node[{node_index}] = {values[node_index]}\")\n",
        "        return values[node_index]\n",
        "\n",
        "    if is_maximizing:\n",
        "        best = -math.inf\n",
        "        print(f\"{indent}MAX node (α={alpha}, β={beta})\")\n",
        "        for i in range(2):\n",
        "            val = alpha_beta(depth + 1, node_index * 2 + i, False, values, alpha, beta, max_depth)\n",
        "            best = max(best, val)\n",
        "            alpha = max(alpha, best)\n",
        "            print(f\"{indent}   MAX updating α={alpha}\")\n",
        "            if beta <= alpha:\n",
        "                print(f\"{indent}   β cut-off (β={beta}, α={alpha}) \")\n",
        "                break\n",
        "        return best\n",
        "    else:\n",
        "        best = math.inf\n",
        "        print(f\"{indent}MIN node (α={alpha}, β={beta})\")\n",
        "        for i in range(2):\n",
        "            val = alpha_beta(depth + 1, node_index * 2 + i, True, values, alpha, beta, max_depth)\n",
        "            best = min(best, val)\n",
        "            beta = min(beta, best)\n",
        "            print(f\"{indent}   MIN updating β={beta}\")\n",
        "            if beta <= alpha:\n",
        "                print(f\"{indent}   α cut-off (β={beta}, α={alpha}) \")\n",
        "                break\n",
        "        return best\n",
        "\n",
        "values = [10, 9, 14, 18, 5, 4, 50, 3]\n",
        "max_depth = int(math.log2(len(values)))\n",
        "\n",
        "print(\"Leaf Nodes:\", values)\n",
        "result = alpha_beta(0, 0, True, values, -math.inf, math.inf, max_depth)\n",
        "print(\"\\nOptimal value:\", result)\n"
      ]
    }
  ]
}